{
 "cells": [
  {
   "cell_type": "code",
   "execution_count": 6,
   "id": "9df33b01-0dc5-4ba2-8287-005c8c7cafda",
   "metadata": {},
   "outputs": [],
   "source": [
    "import sys\n",
    "sys.path.append(\"./SPOCK_chilean/\")\n",
    "import mphot\n",
    "from SPOCK_chilean import path_spock_chilean"
   ]
  },
  {
   "cell_type": "code",
   "execution_count": null,
   "id": "64d2d49e-4194-420c-87ba-c357a104b5e3",
   "metadata": {},
   "outputs": [],
   "source": [
    "import mphot"
   ]
  }
 ],
 "metadata": {
  "kernelspec": {
   "display_name": "Python 3 (ipykernel)",
   "language": "python",
   "name": "python3"
  },
  "language_info": {
   "codemirror_mode": {
    "name": "ipython",
    "version": 3
   },
   "file_extension": ".py",
   "mimetype": "text/x-python",
   "name": "python",
   "nbconvert_exporter": "python",
   "pygments_lexer": "ipython3",
   "version": "3.8.9"
  }
 },
 "nbformat": 4,
 "nbformat_minor": 5
}
