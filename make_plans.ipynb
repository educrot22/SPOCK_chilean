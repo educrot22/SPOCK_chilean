{
 "cells": [
  {
   "cell_type": "code",
   "execution_count": 1,
   "id": "25a3a498-0558-4ef4-8605-b09ca0f579f3",
   "metadata": {},
   "outputs": [
    {
     "name": "stderr",
     "output_type": "stream",
     "text": [
      "WARNING: TimeDeltaMissingUnitWarning: Numerical value without unit or explicit format passed to TimeDelta, assuming days [astropy.time.core]\n"
     ]
    },
    {
     "name": "stdout",
     "output_type": "stream",
     "text": [
      "\u001b[32mINFO: \u001b[30mOK, filter chosen for Sp1044-6112 is in the list\n",
      "\u001b[32mINFO: \u001b[30mOK, exposure time chosen for Sp1044-6112 is >10s\n",
      "\u001b[32mINFO: \u001b[30mOK, field Sp1044-6112 respects the elevation constraint\n",
      "\u001b[32mINFO: \u001b[30mOK, field Sp1044-6112 respects the moon constraint\n",
      "\u001b[32mINFO: \u001b[30mOk, field Sp1044-6112 is scheduled for more than 15 min\n"
     ]
    },
    {
     "name": "stderr",
     "output_type": "stream",
     "text": [
      "WARNING: NonRotationTransformationWarning: transforming other coordinates from <ICRS Frame> to <GCRS Frame (obstime=[2459647.5377281], obsgeoloc=[(-1952532.16453248, 5467487.62135303, -2638448.01796101)] m, obsgeovel=[(-398.69886717, -141.97091112, 0.8520778)] m / s)>. Angular separation can depend on the direction of the transformation. [astropy.coordinates.baseframe]\n"
     ]
    },
    {
     "ename": "ValueError",
     "evalue": "ERROR: There is a SPECULOOS target in this field, please change your coordinates",
     "output_type": "error",
     "traceback": [
      "\u001b[0;31m---------------------------------------------------------------------------\u001b[0m",
      "\u001b[0;31mValueError\u001b[0m                                Traceback (most recent call last)",
      "Cell \u001b[0;32mIn[1], line 41\u001b[0m\n\u001b[1;32m     37\u001b[0m         target_chilean \u001b[38;5;241m=\u001b[39m pd\u001b[38;5;241m.\u001b[39mconcat([target_chilean,pd\u001b[38;5;241m.\u001b[39mDataFrame(other_target,index\u001b[38;5;241m=\u001b[39m[\u001b[38;5;241m0\u001b[39m])], ignore_index\u001b[38;5;241m=\u001b[39m\u001b[38;5;28;01mTrue\u001b[39;00m)\n\u001b[1;32m     39\u001b[0m chilean_plans\u001b[38;5;241m.\u001b[39mmake_night_block(target_chilean)\n\u001b[0;32m---> 41\u001b[0m \u001b[43mchilean_plans\u001b[49m\u001b[38;5;241;43m.\u001b[39;49m\u001b[43mcheck_night_blocks\u001b[49m\u001b[43m(\u001b[49m\u001b[43m)\u001b[49m\n\u001b[1;32m     42\u001b[0m \u001b[38;5;66;03m#target_chilean\u001b[39;00m\n",
      "File \u001b[0;32m~/Dropbox/Mac/Documents/codes/SPOCK_chilean/SPOCK_chilean/make_night_plans.py:545\u001b[0m, in \u001b[0;36mchilean_time.check_night_blocks\u001b[0;34m(self)\u001b[0m\n\u001b[1;32m    541\u001b[0m     \u001b[38;5;28mprint\u001b[39m(Fore\u001b[38;5;241m.\u001b[39mGREEN \u001b[38;5;241m+\u001b[39m \u001b[38;5;124m'\u001b[39m\u001b[38;5;124mINFO: \u001b[39m\u001b[38;5;124m'\u001b[39m \u001b[38;5;241m+\u001b[39m Fore\u001b[38;5;241m.\u001b[39mBLACK \u001b[38;5;241m+\u001b[39m \u001b[38;5;124m'\u001b[39m\u001b[38;5;124mOk, field \u001b[39m\u001b[38;5;124m'\u001b[39m\n\u001b[1;32m    542\u001b[0m           \u001b[38;5;241m+\u001b[39m target_name \u001b[38;5;241m+\u001b[39m \u001b[38;5;124m'\u001b[39m\u001b[38;5;124m is scheduled for more than 15 min\u001b[39m\u001b[38;5;124m'\u001b[39m)\n\u001b[1;32m    544\u001b[0m \u001b[38;5;66;03m# Check distance to SPECULOOS targets\u001b[39;00m\n\u001b[0;32m--> 545\u001b[0m \u001b[38;5;28;01mif\u001b[39;00m \u001b[38;5;28;43mself\u001b[39;49m\u001b[38;5;241;43m.\u001b[39;49m\u001b[43mcheck_distance_speculoos_targets\u001b[49m\u001b[43m(\u001b[49m\u001b[43mcoords_str\u001b[49m\u001b[43m,\u001b[49m\u001b[43m \u001b[49m\u001b[43mtarget_name\u001b[49m\u001b[43m)\u001b[49m:\n\u001b[1;32m    546\u001b[0m     check_ok \u001b[38;5;241m=\u001b[39m \u001b[38;5;28;01mTrue\u001b[39;00m\n\u001b[1;32m    547\u001b[0m \u001b[38;5;28;01mif\u001b[39;00m check_ok:\n",
      "File \u001b[0;32m~/Dropbox/Mac/Documents/codes/SPOCK_chilean/SPOCK_chilean/make_night_plans.py:582\u001b[0m, in \u001b[0;36mchilean_time.check_distance_speculoos_targets\u001b[0;34m(self, coords_str, target_name)\u001b[0m\n\u001b[1;32m    579\u001b[0m idx_speculoos_found \u001b[38;5;241m=\u001b[39m [np\u001b[38;5;241m.\u001b[39many(catalog_data[\u001b[38;5;124m'\u001b[39m\u001b[38;5;124mdesignation\u001b[39m\u001b[38;5;124m'\u001b[39m] \u001b[38;5;241m==\u001b[39m \u001b[38;5;124m'\u001b[39m\u001b[38;5;124mGaia DR2 \u001b[39m\u001b[38;5;124m'\u001b[39m \u001b[38;5;241m+\u001b[39m \u001b[38;5;28mstr\u001b[39m(gaia_id))\n\u001b[1;32m    580\u001b[0m                         \u001b[38;5;28;01mfor\u001b[39;00m gaia_id \u001b[38;5;129;01min\u001b[39;00m df[\u001b[38;5;124m'\u001b[39m\u001b[38;5;124mGaia_ID\u001b[39m\u001b[38;5;124m'\u001b[39m]]\n\u001b[1;32m    581\u001b[0m \u001b[38;5;28;01mif\u001b[39;00m np\u001b[38;5;241m.\u001b[39many(idx_speculoos_found):\n\u001b[0;32m--> 582\u001b[0m     \u001b[38;5;28;01mraise\u001b[39;00m \u001b[38;5;167;01mValueError\u001b[39;00m(\u001b[38;5;124m'\u001b[39m\u001b[38;5;124mERROR: There is a SPECULOOS target in this field, please change your coordinates\u001b[39m\u001b[38;5;124m'\u001b[39m)\n\u001b[1;32m    583\u001b[0m \u001b[38;5;28;01melse\u001b[39;00m:\n\u001b[1;32m    584\u001b[0m     \u001b[38;5;28mprint\u001b[39m(Fore\u001b[38;5;241m.\u001b[39mGREEN \u001b[38;5;241m+\u001b[39m \u001b[38;5;124m'\u001b[39m\u001b[38;5;124mINFO: \u001b[39m\u001b[38;5;124m'\u001b[39m \u001b[38;5;241m+\u001b[39m Fore\u001b[38;5;241m.\u001b[39mBLACK \u001b[38;5;241m+\u001b[39m \u001b[38;5;124m'\u001b[39m\u001b[38;5;124mOK, field \u001b[39m\u001b[38;5;124m'\u001b[39m \u001b[38;5;241m+\u001b[39m target_name\n\u001b[1;32m    585\u001b[0m           \u001b[38;5;241m+\u001b[39m \u001b[38;5;124m'\u001b[39m\u001b[38;5;124m does not contain a SPECULOOS target\u001b[39m\u001b[38;5;124m'\u001b[39m)\n",
      "\u001b[0;31mValueError\u001b[0m: ERROR: There is a SPECULOOS target in this field, please change your coordinates"
     ]
    }
   ],
   "source": [
    "import pandas as pd\n",
    "from SPOCK_chilean.make_night_plans import chilean_time\n",
    "import SPOCK_chilean.ETC as ETC\n",
    "\n",
    "# set in advance with the planning with SSO team\n",
    "telescope = 'Callisto'\n",
    "\n",
    "date = '2022-03-08 15:00:00'  # start of night date\n",
    "chilean_nb_target = 4  # number of target to observe this night\n",
    "counts = 5000  # counts of images per targets (no limit = 5000)\n",
    "chilean_plans = chilean_time(date, telescope)\n",
    "\n",
    "df = pd.read_csv('SPIRIT_target_tests.csv')\n",
    "\n",
    "\n",
    "target_chilean = pd.DataFrame({'Date': date, 'Telescope': df['Telescope'][0], 'Name': df['Name'][0],\n",
    "                        'Start': df['Start'][0],\n",
    "                        'End': df['End'][0],\n",
    "                        'RA':  df['RA'][0],\n",
    "                        'DEC': df['DEC'][0],\n",
    "                        'Filter': 'z',\n",
    "                        'texp': 10,\n",
    "                        'Counts': counts, '#target': 1, 'Gaia_ID': 'gaia_id', 'Jmag': 19, 'SpT': 'M8'},\n",
    "                              index=[0])\n",
    "\n",
    "\n",
    "for i in range(1,2):\n",
    "    if chilean_nb_target > 1:\n",
    "        other_target = {'Date': date, 'Telescope': df['Telescope'][i], 'Name': df['Name'][i],\n",
    "                        'Start': df['Start'][i],\n",
    "                        'End': df['End'][i],\n",
    "                        'RA':  df['RA'][i],\n",
    "                        'DEC': df['DEC'][i],\n",
    "                        'Filter': 'z',\n",
    "                        'texp': 10,\n",
    "                        'Counts': counts, '#target': 1, 'Gaia_ID': 'gaia_id', 'Jmag': 19, 'SpT': 'M8'}\n",
    "        target_chilean = pd.concat([target_chilean,pd.DataFrame(other_target,index=[0])], ignore_index=True)\n",
    "\n",
    "chilean_plans.make_night_block(target_chilean)\n",
    "\n",
    "chilean_plans.check_night_blocks()\n",
    "#target_chilean"
   ]
  },
  {
   "cell_type": "code",
   "execution_count": null,
   "id": "37475e61",
   "metadata": {},
   "outputs": [],
   "source": []
  }
 ],
 "metadata": {
  "kernelspec": {
   "display_name": "Python 3 (ipykernel)",
   "language": "python",
   "name": "python3"
  },
  "language_info": {
   "codemirror_mode": {
    "name": "ipython",
    "version": 3
   },
   "file_extension": ".py",
   "mimetype": "text/x-python",
   "name": "python",
   "nbconvert_exporter": "python",
   "pygments_lexer": "ipython3",
   "version": "3.12.6"
  }
 },
 "nbformat": 4,
 "nbformat_minor": 5
}
